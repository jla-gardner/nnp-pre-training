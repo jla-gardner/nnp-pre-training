{
 "cells": [
  {
   "cell_type": "code",
   "execution_count": 1,
   "metadata": {},
   "outputs": [
    {
     "name": "stdout",
     "output_type": "stream",
     "text": [
      "Direct training: 204.42 hours\n",
      "Fine tuning: 356.33 hours\n",
      "Alchemical training: 28.49 hours\n",
      "Total: 589.23 hours\n"
     ]
    }
   ],
   "source": [
    "import sys\n",
    "sys.path.append('../')   \n",
    "\n",
    "from scripts.direct_training import direct_training\n",
    "from scripts.fine_tuning import fine_tuning\n",
    "from scripts.alchemical_train import alchemical_train\n",
    "\n",
    "direct_hours = direct_training.to_dataframe(include_metadata=True).metadata_timing_training_duration.sum() / 3600\n",
    "ft_hours = fine_tuning.to_dataframe(include_metadata=True).metadata_timing_training_duration.sum() / 3600\n",
    "alchemical_hours = alchemical_train.to_dataframe(include_metadata=True).metadata_timing_training_duration.sum() / 3600\n",
    "\n",
    "print(f\"Direct training: {direct_hours:.2f} hours\")\n",
    "print(f\"Fine tuning: {ft_hours:.2f} hours\")\n",
    "print(f\"Alchemical training: {alchemical_hours:.2f} hours\")\n",
    "print(f\"Total: {direct_hours + ft_hours + alchemical_hours:.2f} hours\")"
   ]
  },
  {
   "cell_type": "code",
   "execution_count": 2,
   "metadata": {},
   "outputs": [
    {
     "name": "stdout",
     "output_type": "stream",
     "text": [
      "Energy cost: 176.77 kWh\n"
     ]
    }
   ],
   "source": [
    "energy_in_kwh = (direct_hours + ft_hours + alchemical_hours) * 300 / 1000  # GPU max capacity is 300 W\n",
    "print(f\"Energy cost: {energy_in_kwh:.2f} kWh\")"
   ]
  },
  {
   "cell_type": "code",
   "execution_count": 3,
   "metadata": {},
   "outputs": [
    {
     "name": "stdout",
     "output_type": "stream",
     "text": [
      "CO2 cost: 36.59 kg\n"
     ]
    }
   ],
   "source": [
    "# source:\n",
    "# https://www.gov.uk/government/publications/greenhouse-gas-reporting-conversion-factors-2023\n",
    "CO2_per_kwh = 0.207\n",
    "print(f\"CO2 cost: {energy_in_kwh * CO2_per_kwh:.2f} kg\")"
   ]
  }
 ],
 "metadata": {
  "kernelspec": {
   "display_name": "pre-train-nequip",
   "language": "python",
   "name": "python3"
  },
  "language_info": {
   "codemirror_mode": {
    "name": "ipython",
    "version": 3
   },
   "file_extension": ".py",
   "mimetype": "text/x-python",
   "name": "python",
   "nbconvert_exporter": "python",
   "pygments_lexer": "ipython3",
   "version": "3.8.16"
  },
  "orig_nbformat": 4
 },
 "nbformat": 4,
 "nbformat_minor": 2
}

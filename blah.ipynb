{
 "cells": [
  {
   "cell_type": "code",
   "execution_count": 1,
   "metadata": {},
   "outputs": [
    {
     "data": {
      "text/plain": [
       "{'ace': '23.06.08-20.33.15-394025',\n",
       " 'gap20': '23.06.09-08.13.03-677890',\n",
       " 'edip': '23.06.09-22.16.54-046769',\n",
       " 'qsnap': '23.06.11-06.00.35-238778',\n",
       " 'lcbop': '23.06.13-08.37.46-604921'}"
      ]
     },
     "execution_count": 1,
     "metadata": {},
     "output_type": "execute_result"
    }
   ],
   "source": [
    "from scripts.direct_training import direct_training\n",
    "from scripts.fine_tuning import fine_tuning\n",
    "\n",
    "pre_trained = direct_training.to_dataframe(\n",
    "    config=dict(\n",
    "        dataset_name=\"C-SYNTH-23M:reasonable\",\n",
    "        n_train=10_000,\n",
    "    )\n",
    ")\n",
    "\n",
    "pre_trained_models = {\n",
    "    row.labels: row.id for row in pre_trained.itertuples()\n",
    "}\n",
    "pre_trained_models"
   ]
  },
  {
   "cell_type": "code",
   "execution_count": 3,
   "metadata": {},
   "outputs": [],
   "source": [
    "from pathlib import Path\n",
    "import shutil\n",
    "\n",
    "for label, _id in pre_trained_models.items():\n",
    "    if label == \"qsnap\":\n",
    "        continue\n",
    "\n",
    "    name = f\"{label}-10_000.pth\"\n",
    "\n",
    "    # copy best.ckpt to models/ directory\n",
    "\n",
    "    source_file = Path(\"results/direct_training/version-1/runs/\") / _id / \"best_model.pth\"\n",
    "    target_file = Path(\"models\") / name\n",
    "\n",
    "    target_file.parent.mkdir(exist_ok=True, parents=True)\n",
    "    \n",
    "    # copy file\n",
    "    shutil.copy(source_file, target_file)"
   ]
  },
  {
   "cell_type": "code",
   "execution_count": 4,
   "metadata": {},
   "outputs": [
    {
     "data": {
      "text/plain": [
       "{100: '23.06.25-10.51.58-801842',\n",
       " 330: '23.06.12-11.16.02-192600',\n",
       " 1000: '23.06.12-12.18.55-375510',\n",
       " 3300: '23.06.12-14.42.48-148294',\n",
       " 10000: '23.06.08-20.33.15-394025',\n",
       " 33000: '23.06.14-07.28.24-804165',\n",
       " 100000: '23.06.15-17.18.28-722517'}"
      ]
     },
     "execution_count": 4,
     "metadata": {},
     "output_type": "execute_result"
    }
   ],
   "source": [
    "from scripts.direct_training import direct_training\n",
    "\n",
    "pre_trained = direct_training.to_dataframe(\n",
    "    config=dict(\n",
    "        dataset_name=\"C-SYNTH-23M:reasonable\",\n",
    "        labels=\"ace\",\n",
    "        num_layers=4,\n",
    "    )\n",
    ").sort_values(\"n_train\")\n",
    "\n",
    "pre_trained_models = {\n",
    "    row.n_train: row.id for row in pre_trained.itertuples()\n",
    "}\n",
    "pre_trained_models"
   ]
  },
  {
   "cell_type": "code",
   "execution_count": 5,
   "metadata": {},
   "outputs": [],
   "source": [
    "for n, _id in pre_trained_models.items():\n",
    "    if label == \"qsnap\":\n",
    "        continue\n",
    "\n",
    "    name = f\"ace-{n:_}.pth\"\n",
    "\n",
    "    # copy best.ckpt to models/ directory\n",
    "\n",
    "    source_file = Path(\"results/direct_training/version-1/runs/\") / _id / \"best_model.pth\"\n",
    "    target_file = Path(\"models\") / name\n",
    "\n",
    "    target_file.parent.mkdir(exist_ok=True, parents=True)\n",
    "    \n",
    "    # copy file\n",
    "    shutil.copy(source_file, target_file)"
   ]
  }
 ],
 "metadata": {
  "kernelspec": {
   "display_name": "pre-train-nequip",
   "language": "python",
   "name": "python3"
  },
  "language_info": {
   "codemirror_mode": {
    "name": "ipython",
    "version": 3
   },
   "file_extension": ".py",
   "mimetype": "text/x-python",
   "name": "python",
   "nbconvert_exporter": "python",
   "pygments_lexer": "ipython3",
   "version": "3.8.16"
  },
  "orig_nbformat": 4
 },
 "nbformat": 4,
 "nbformat_minor": 2
}
